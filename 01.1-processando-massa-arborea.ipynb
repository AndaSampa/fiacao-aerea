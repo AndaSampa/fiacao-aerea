{
 "cells": [
  {
   "cell_type": "code",
   "execution_count": 8,
   "metadata": {},
   "outputs": [],
   "source": [
    "import pdal\n",
    "import json\n",
    "import geopandas as gpd\n",
    "import pandas as pd"
   ]
  },
  {
   "cell_type": "code",
   "execution_count": 18,
   "metadata": {},
   "outputs": [],
   "source": [
    "pipeline = [\n",
    "        {\n",
    "            \"type\": \"readers.las\",\n",
    "            \"filename\": f'data/sample/MDS_color_3316-221.laz',\n",
    "            \"override_srs\": \"EPSG:31983\"\n",
    "        },\n",
    "        {\n",
    "            \"type\":\"filters.range\",\n",
    "            \"limits\":\"ReturnNumber[1:4],NumberOfReturns![1:1],UserData[3:],Classification[5:5]\"\n",
    "        },\n",
    "        {\n",
    "            \"type\": \"filters.assign\",\n",
    "            \"value\" : \"Z = 1\"\n",
    "        },\n",
    "        {\n",
    "            \"filename\":f\"results/sample/MDS_3316-221-vegetation.tiff\",\n",
    "            \"gdaldriver\":\"GTiff\",\n",
    "            \"output_type\":\"max\",\n",
    "            \"resolution\":\"1\",\n",
    "            \"type\": \"writers.gdal\",\n",
    "            \"gdalopts\":\"COMPRESS=ZSTD, PREDICTOR=3, BIGTIFF=YES\",\n",
    "            # \"width\": scm_att.width,\n",
    "            # \"height\": scm_att.height,\n",
    "            # \"origin_x\": scm_att.origin_x,\n",
    "            # \"origin_y\": scm_att.origin_y,\n",
    "            \"nodata\":\"0\",\n",
    "            \"data_type\": \"float32\",\n",
    "            \"where\": \"(Classification == 5)\",\n",
    "            \"default_srs\": \"EPSG:31983\"\n",
    "        },\n",
    "        \n",
    "    ]"
   ]
  },
  {
   "cell_type": "code",
   "execution_count": 19,
   "metadata": {},
   "outputs": [],
   "source": [
    "filtered = pdal.Pipeline(json.dumps(pipeline))\n",
    "n_points = filtered.execute()"
   ]
  },
  {
   "cell_type": "code",
   "execution_count": 21,
   "metadata": {},
   "outputs": [
    {
     "name": "stdout",
     "output_type": "stream",
     "text": [
      "0...10...20...30...40...50...60...70...80...90...100 - done.\n"
     ]
    }
   ],
   "source": [
    "!gdal_contour -p -amax ELEV_MAX -amin ELEV_MIN -b 1 -i 1.0 -f \"GPKG\" /home/feromes/dev/fiacao-aerea/results/sample/MDS_3316-221-vegetation.tiff /home/feromes/dev/fiacao-aerea/results/sample/MDS_3316-221-vegetacao-countor.gpkg"
   ]
  },
  {
   "cell_type": "code",
   "execution_count": 22,
   "metadata": {},
   "outputs": [],
   "source": [
    "gdf_countor = gpd.read_file('results/sample/MDS_3316-221-vegetacao-countor.gpkg')"
   ]
  },
  {
   "cell_type": "code",
   "execution_count": 28,
   "metadata": {},
   "outputs": [
    {
     "name": "stderr",
     "output_type": "stream",
     "text": [
      "/tmp/ipykernel_7067/2211291049.py:1: FutureWarning: Currently, index_parts defaults to True, but in the future, it will default to False to be consistent with Pandas. Use `index_parts=True` to keep the current behavior and True/False to silence the warning.\n",
      "  gdf_countor = gpd.GeoDataFrame(gdf_countor.explode().reset_index())\n"
     ]
    }
   ],
   "source": [
    "gdf_countor = gpd.GeoDataFrame(gdf_countor.explode().reset_index())"
   ]
  },
  {
   "cell_type": "code",
   "execution_count": 29,
   "metadata": {},
   "outputs": [],
   "source": [
    "gdf_fiacao = gpd.read_file('results/sample/fiacao-sample.gpkg')"
   ]
  },
  {
   "cell_type": "code",
   "execution_count": 34,
   "metadata": {},
   "outputs": [
    {
     "data": {
      "text/plain": [
       "<Derived Projected CRS: EPSG:31983>\n",
       "Name: SIRGAS 2000 / UTM zone 23S\n",
       "Axis Info [cartesian]:\n",
       "- E[east]: Easting (metre)\n",
       "- N[north]: Northing (metre)\n",
       "Area of Use:\n",
       "- name: Brazil - between 48°W and 42°W, northern and southern hemispheres, onshore and offshore.\n",
       "- bounds: (-48.0, -33.5, -42.0, 5.13)\n",
       "Coordinate Operation:\n",
       "- name: UTM zone 23S\n",
       "- method: Transverse Mercator\n",
       "Datum: Sistema de Referencia Geocentrico para las AmericaS 2000\n",
       "- Ellipsoid: GRS 1980\n",
       "- Prime Meridian: Greenwich"
      ]
     },
     "execution_count": 34,
     "metadata": {},
     "output_type": "execute_result"
    }
   ],
   "source": [
    "gdf_fiacao.crs"
   ]
  },
  {
   "cell_type": "code",
   "execution_count": 36,
   "metadata": {},
   "outputs": [
    {
     "data": {
      "text/html": [
       "<div>\n",
       "<style scoped>\n",
       "    .dataframe tbody tr th:only-of-type {\n",
       "        vertical-align: middle;\n",
       "    }\n",
       "\n",
       "    .dataframe tbody tr th {\n",
       "        vertical-align: top;\n",
       "    }\n",
       "\n",
       "    .dataframe thead th {\n",
       "        text-align: right;\n",
       "    }\n",
       "</style>\n",
       "<table border=\"1\" class=\"dataframe\">\n",
       "  <thead>\n",
       "    <tr style=\"text-align: right;\">\n",
       "      <th></th>\n",
       "      <th>level_0</th>\n",
       "      <th>level_1</th>\n",
       "      <th>ID</th>\n",
       "      <th>ELEV_MIN</th>\n",
       "      <th>ELEV_MAX</th>\n",
       "      <th>geometry</th>\n",
       "    </tr>\n",
       "  </thead>\n",
       "  <tbody>\n",
       "    <tr>\n",
       "      <th>0</th>\n",
       "      <td>0</td>\n",
       "      <td>0</td>\n",
       "      <td>0</td>\n",
       "      <td>0.0</td>\n",
       "      <td>2.0</td>\n",
       "      <td>POLYGON ((332237.670 7390943.990, 332238.170 7...</td>\n",
       "    </tr>\n",
       "    <tr>\n",
       "      <th>1</th>\n",
       "      <td>0</td>\n",
       "      <td>1</td>\n",
       "      <td>0</td>\n",
       "      <td>0.0</td>\n",
       "      <td>2.0</td>\n",
       "      <td>POLYGON ((332251.670 7390942.990, 332252.170 7...</td>\n",
       "    </tr>\n",
       "    <tr>\n",
       "      <th>2</th>\n",
       "      <td>0</td>\n",
       "      <td>2</td>\n",
       "      <td>0</td>\n",
       "      <td>0.0</td>\n",
       "      <td>2.0</td>\n",
       "      <td>POLYGON ((332437.670 7390942.990, 332438.170 7...</td>\n",
       "    </tr>\n",
       "    <tr>\n",
       "      <th>3</th>\n",
       "      <td>0</td>\n",
       "      <td>3</td>\n",
       "      <td>0</td>\n",
       "      <td>0.0</td>\n",
       "      <td>2.0</td>\n",
       "      <td>POLYGON ((332165.670 7390927.990, 332166.170 7...</td>\n",
       "    </tr>\n",
       "    <tr>\n",
       "      <th>4</th>\n",
       "      <td>0</td>\n",
       "      <td>4</td>\n",
       "      <td>0</td>\n",
       "      <td>0.0</td>\n",
       "      <td>2.0</td>\n",
       "      <td>POLYGON ((332214.670 7390941.990, 332215.170 7...</td>\n",
       "    </tr>\n",
       "    <tr>\n",
       "      <th>...</th>\n",
       "      <td>...</td>\n",
       "      <td>...</td>\n",
       "      <td>...</td>\n",
       "      <td>...</td>\n",
       "      <td>...</td>\n",
       "      <td>...</td>\n",
       "    </tr>\n",
       "    <tr>\n",
       "      <th>540</th>\n",
       "      <td>0</td>\n",
       "      <td>540</td>\n",
       "      <td>0</td>\n",
       "      <td>0.0</td>\n",
       "      <td>2.0</td>\n",
       "      <td>POLYGON ((332457.670 7390358.990, 332458.170 7...</td>\n",
       "    </tr>\n",
       "    <tr>\n",
       "      <th>541</th>\n",
       "      <td>0</td>\n",
       "      <td>541</td>\n",
       "      <td>0</td>\n",
       "      <td>0.0</td>\n",
       "      <td>2.0</td>\n",
       "      <td>POLYGON ((332491.670 7390358.990, 332492.170 7...</td>\n",
       "    </tr>\n",
       "    <tr>\n",
       "      <th>542</th>\n",
       "      <td>0</td>\n",
       "      <td>542</td>\n",
       "      <td>0</td>\n",
       "      <td>0.0</td>\n",
       "      <td>2.0</td>\n",
       "      <td>POLYGON ((332499.670 7390358.990, 332500.170 7...</td>\n",
       "    </tr>\n",
       "    <tr>\n",
       "      <th>543</th>\n",
       "      <td>0</td>\n",
       "      <td>543</td>\n",
       "      <td>0</td>\n",
       "      <td>0.0</td>\n",
       "      <td>2.0</td>\n",
       "      <td>POLYGON ((332544.670 7390358.990, 332545.170 7...</td>\n",
       "    </tr>\n",
       "    <tr>\n",
       "      <th>544</th>\n",
       "      <td>0</td>\n",
       "      <td>544</td>\n",
       "      <td>0</td>\n",
       "      <td>0.0</td>\n",
       "      <td>2.0</td>\n",
       "      <td>POLYGON ((332314.670 7390693.990, 332315.170 7...</td>\n",
       "    </tr>\n",
       "  </tbody>\n",
       "</table>\n",
       "<p>545 rows × 6 columns</p>\n",
       "</div>"
      ],
      "text/plain": [
       "     level_0  level_1  ID  ELEV_MIN  ELEV_MAX  \\\n",
       "0          0        0   0       0.0       2.0   \n",
       "1          0        1   0       0.0       2.0   \n",
       "2          0        2   0       0.0       2.0   \n",
       "3          0        3   0       0.0       2.0   \n",
       "4          0        4   0       0.0       2.0   \n",
       "..       ...      ...  ..       ...       ...   \n",
       "540        0      540   0       0.0       2.0   \n",
       "541        0      541   0       0.0       2.0   \n",
       "542        0      542   0       0.0       2.0   \n",
       "543        0      543   0       0.0       2.0   \n",
       "544        0      544   0       0.0       2.0   \n",
       "\n",
       "                                              geometry  \n",
       "0    POLYGON ((332237.670 7390943.990, 332238.170 7...  \n",
       "1    POLYGON ((332251.670 7390942.990, 332252.170 7...  \n",
       "2    POLYGON ((332437.670 7390942.990, 332438.170 7...  \n",
       "3    POLYGON ((332165.670 7390927.990, 332166.170 7...  \n",
       "4    POLYGON ((332214.670 7390941.990, 332215.170 7...  \n",
       "..                                                 ...  \n",
       "540  POLYGON ((332457.670 7390358.990, 332458.170 7...  \n",
       "541  POLYGON ((332491.670 7390358.990, 332492.170 7...  \n",
       "542  POLYGON ((332499.670 7390358.990, 332500.170 7...  \n",
       "543  POLYGON ((332544.670 7390358.990, 332545.170 7...  \n",
       "544  POLYGON ((332314.670 7390693.990, 332315.170 7...  \n",
       "\n",
       "[545 rows x 6 columns]"
      ]
     },
     "execution_count": 36,
     "metadata": {},
     "output_type": "execute_result"
    }
   ],
   "source": [
    "gdf_countor.set_crs(epsg=31983, inplace=True)"
   ]
  },
  {
   "cell_type": "code",
   "execution_count": 39,
   "metadata": {},
   "outputs": [
    {
     "data": {
      "text/plain": [
       "<Derived Projected CRS: EPSG:31983>\n",
       "Name: SIRGAS 2000 / UTM zone 23S\n",
       "Axis Info [cartesian]:\n",
       "- E[east]: Easting (metre)\n",
       "- N[north]: Northing (metre)\n",
       "Area of Use:\n",
       "- name: Brazil - between 48°W and 42°W, northern and southern hemispheres, onshore and offshore.\n",
       "- bounds: (-48.0, -33.5, -42.0, 5.13)\n",
       "Coordinate Operation:\n",
       "- name: UTM zone 23S\n",
       "- method: Transverse Mercator\n",
       "Datum: Sistema de Referencia Geocentrico para las AmericaS 2000\n",
       "- Ellipsoid: GRS 1980\n",
       "- Prime Meridian: Greenwich"
      ]
     },
     "execution_count": 39,
     "metadata": {},
     "output_type": "execute_result"
    }
   ],
   "source": [
    "gdf_countor.crs"
   ]
  },
  {
   "cell_type": "code",
   "execution_count": 53,
   "metadata": {},
   "outputs": [],
   "source": [
    "gdf_countor.geometry = gdf_countor.buffer(1)"
   ]
  },
  {
   "cell_type": "code",
   "execution_count": 55,
   "metadata": {},
   "outputs": [],
   "source": [
    "gdf_countor_intersects = gdf_countor.sjoin(gdf_fiacao)"
   ]
  },
  {
   "cell_type": "code",
   "execution_count": 56,
   "metadata": {},
   "outputs": [],
   "source": [
    "gdf_countor_intersects.geometry = gdf_countor_intersects.buffer(-1)"
   ]
  },
  {
   "cell_type": "code",
   "execution_count": 57,
   "metadata": {},
   "outputs": [
    {
     "name": "stderr",
     "output_type": "stream",
     "text": [
      "/home/feromes/miniconda3/envs/pdal/lib/python3.9/site-packages/geopandas/io/file.py:362: FutureWarning: pandas.Int64Index is deprecated and will be removed from pandas in a future version. Use pandas.Index with the appropriate dtype instead.\n",
      "  pd.Int64Index,\n"
     ]
    }
   ],
   "source": [
    "gdf_countor_intersects.to_file('results/sample/arvores_com_interseccao_com_rede.gpkg', driver='GPKG')"
   ]
  },
  {
   "cell_type": "code",
   "execution_count": null,
   "metadata": {},
   "outputs": [],
   "source": []
  },
  {
   "cell_type": "code",
   "execution_count": 10,
   "metadata": {},
   "outputs": [],
   "source": []
  },
  {
   "cell_type": "code",
   "execution_count": null,
   "metadata": {},
   "outputs": [],
   "source": []
  }
 ],
 "metadata": {
  "kernelspec": {
   "display_name": "pdal",
   "language": "python",
   "name": "python3"
  },
  "language_info": {
   "codemirror_mode": {
    "name": "ipython",
    "version": 3
   },
   "file_extension": ".py",
   "mimetype": "text/x-python",
   "name": "python",
   "nbconvert_exporter": "python",
   "pygments_lexer": "ipython3",
   "version": "3.9.7"
  },
  "orig_nbformat": 4
 },
 "nbformat": 4,
 "nbformat_minor": 2
}
