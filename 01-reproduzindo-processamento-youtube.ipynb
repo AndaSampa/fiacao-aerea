{
 "cells": [
  {
   "cell_type": "code",
   "execution_count": 7,
   "metadata": {},
   "outputs": [],
   "source": [
    "import pdal\n",
    "import json"
   ]
  },
  {
   "cell_type": "code",
   "execution_count": 32,
   "metadata": {},
   "outputs": [],
   "source": [
    "pipeline = [\n",
    "        {\n",
    "            \"type\": \"readers.las\",\n",
    "            \"filename\": f'data/sample/MDS_color_3332-442.laz',\n",
    "            \"override_srs\": \"EPSG:31983\"\n",
    "        },\n",
    "        {\n",
    "            \"type\":\"filters.range\",\n",
    "            \"limits\":\"ReturnNumber[1:4],NumberOfReturns![1:1],UserData[3:],Intensity[:10],Classification[19:19]\"\n",
    "        },\n",
    "        {\n",
    "            \"type\":\"filters.voxelcentroidnearestneighbor\",\n",
    "            \"cell\":0.50\n",
    "        },\n",
    "        {\n",
    "            \"type\":\"filters.outlier\",\n",
    "            \"method\":\"radius\",\n",
    "            \"radius\":2.0,\n",
    "            \"min_k\":4\n",
    "        },\n",
    "        {\n",
    "            \"type\":\"filters.range\",\n",
    "            \"limits\":\"Classification![7:7]\"\n",
    "        },\n",
    "        {\n",
    "            \"type\":\"writers.las\",\n",
    "            \"filename\": f'results/sample/MDS_3332-442_1000-filtered.laz'\n",
    "        }\n",
    "        \n",
    "    ]"
   ]
  },
  {
   "cell_type": "code",
   "execution_count": null,
   "metadata": {},
   "outputs": [
    {
     "ename": "",
     "evalue": "",
     "output_type": "error",
     "traceback": [
      "\u001b[1;31mNão é possível executar o código, a sessão foi descartada. Tente reiniciar o Kernel."
     ]
    },
    {
     "ename": "",
     "evalue": "",
     "output_type": "error",
     "traceback": [
      "\u001b[1;31mO Kernel falhou ao executar o código na célula atual ou em uma célula anterior. Examine o código nas células para identificar uma possível causa da falha. Clique <a href=\"https://aka.ms/vscodeJupyterKernelCrash\">aqui</a> para obter mais informações. Consulte o <a href='command:jupyter.viewOutput'>log</a> do Jupyter para obter mais detalhes."
     ]
    }
   ],
   "source": [
    "filtered = pdal.Pipeline(json.dumps(pipeline))\n",
    "n_points = filtered.execute()"
   ]
  },
  {
   "cell_type": "code",
   "execution_count": null,
   "metadata": {},
   "outputs": [],
   "source": []
  },
  {
   "cell_type": "code",
   "execution_count": null,
   "metadata": {},
   "outputs": [],
   "source": []
  }
 ],
 "metadata": {
  "kernelspec": {
   "display_name": "pdal",
   "language": "python",
   "name": "python3"
  },
  "language_info": {
   "codemirror_mode": {
    "name": "ipython",
    "version": 3
   },
   "file_extension": ".py",
   "mimetype": "text/x-python",
   "name": "python",
   "nbconvert_exporter": "python",
   "pygments_lexer": "ipython3",
   "version": "3.11.0"
  },
  "orig_nbformat": 4
 },
 "nbformat": 4,
 "nbformat_minor": 2
}
