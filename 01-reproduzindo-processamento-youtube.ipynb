{
 "cells": [
  {
   "cell_type": "code",
   "execution_count": 1,
   "metadata": {},
   "outputs": [],
   "source": [
    "import pdal\n",
    "import json"
   ]
  },
  {
   "cell_type": "code",
   "execution_count": 8,
   "metadata": {},
   "outputs": [],
   "source": [
    "pipeline = [\n",
    "        {\n",
    "            \"type\": \"readers.las\",\n",
    "            \"filename\": f'data/sample/MDS_color_3316-221.laz',\n",
    "            \"override_srs\": \"EPSG:31983\"\n",
    "        },\n",
    "        {\n",
    "            \"type\":\"filters.range\",\n",
    "            \"limits\":\"ReturnNumber[1:4],NumberOfReturns![1:1],UserData[3:],Intensity[:10],Classification[19:19]\"\n",
    "        },\n",
    "        {\n",
    "            \"type\":\"filters.voxelcentroidnearestneighbor\",\n",
    "            \"cell\":0.50\n",
    "        },\n",
    "        {\n",
    "            \"type\":\"filters.outlier\",\n",
    "            \"method\":\"radius\",\n",
    "            \"radius\":2.0,\n",
    "            \"min_k\":4\n",
    "        },\n",
    "        {\n",
    "            \"type\":\"filters.range\",\n",
    "            \"limits\":\"Classification![7:7]\"\n",
    "        },\n",
    "        {\n",
    "            \"type\":\"writers.las\",\n",
    "            \"filename\": f'results/sample/MDS_3316-221_1000-filtered.laz'\n",
    "        },\n",
    "        {\n",
    "            \"type\":\"writers.text\",\n",
    "            \"format\":\"csv\",\n",
    "            \"order\":\"X,Y\",\n",
    "            \"keep_unspecified\":\"false\",\n",
    "            \"filename\":\"results/sample/MDS_3316-221_1000-filtered.csv\"\n",
    "        }\n",
    "        \n",
    "    ]"
   ]
  },
  {
   "cell_type": "code",
   "execution_count": 9,
   "metadata": {},
   "outputs": [],
   "source": [
    "filtered = pdal.Pipeline(json.dumps(pipeline))\n",
    "n_points = filtered.execute()"
   ]
  },
  {
   "cell_type": "code",
   "execution_count": 10,
   "metadata": {},
   "outputs": [],
   "source": [
    "## TODO\n",
    "# Abrir o CSV\n",
    "# Gerar um buffer de 2.5m\n",
    "# Gerar o skelton\n",
    "    ## https://github.com/AndaSampa/rotas-em-calcadas/blob/main/01%20-%20Rede%20de%20rotas%20caminhaveis%20um%20distrito%20-%20Vila%20Mariana.ipynb\n",
    "# Resolver a intersecção com a vegetação\n",
    "    ## Criar pontos CSV\n",
    "    ## Gerar um buffer de 2.5\n",
    "    ## Fazer a intersecção das linhas"
   ]
  },
  {
   "cell_type": "code",
   "execution_count": null,
   "metadata": {},
   "outputs": [],
   "source": []
  }
 ],
 "metadata": {
  "kernelspec": {
   "display_name": "pdal",
   "language": "python",
   "name": "python3"
  },
  "language_info": {
   "codemirror_mode": {
    "name": "ipython",
    "version": 3
   },
   "file_extension": ".py",
   "mimetype": "text/x-python",
   "name": "python",
   "nbconvert_exporter": "python",
   "pygments_lexer": "ipython3",
   "version": "3.11.0"
  },
  "orig_nbformat": 4
 },
 "nbformat": 4,
 "nbformat_minor": 2
}
